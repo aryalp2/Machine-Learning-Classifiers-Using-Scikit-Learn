{
 "cells": [
  {
   "cell_type": "markdown",
   "metadata": {},
   "source": [
    "# A tour of Machine Learning Classifiers using Scikit-Learn"
   ]
  },
  {
   "cell_type": "markdown",
   "metadata": {},
   "source": [
    "## First steps with scikit-learn -- training a perceptron"
   ]
  },
  {
   "cell_type": "code",
   "execution_count": 1,
   "metadata": {},
   "outputs": [
    {
     "name": "stdout",
     "output_type": "stream",
     "text": [
      "Class label: [0 1 2]\n"
     ]
    }
   ],
   "source": [
    "from sklearn import datasets\n",
    "import numpy as np\n",
    "iris = datasets.load_iris()\n",
    "X = iris.data[: , (2 , 3)]\n",
    "y = iris.target\n",
    "print ('Class label:' , np.unique(y))"
   ]
  },
  {
   "cell_type": "code",
   "execution_count": 2,
   "metadata": {},
   "outputs": [],
   "source": [
    "#splitting in test and train sets\n",
    "from sklearn.model_selection import train_test_split\n",
    "X_train , X_test , y_train , y_test = train_test_split(X , y , test_size = 0.3 , random_state = 1 , stratify = y)"
   ]
  },
  {
   "cell_type": "code",
   "execution_count": 3,
   "metadata": {},
   "outputs": [
    {
     "name": "stdout",
     "output_type": "stream",
     "text": [
      "Labels count in y: [50 50 50]\n",
      "Labels count in y_train: [35 35 35]\n",
      "Labels count in y_test: [15 15 15]\n"
     ]
    }
   ],
   "source": [
    "#counting the number of occurence of each value\n",
    "print (\"Labels count in y:\", np.bincount(y))\n",
    "print (\"Labels count in y_train:\", np.bincount(y_train))\n",
    "print (\"Labels count in y_test:\", np.bincount(y_test))"
   ]
  },
  {
   "cell_type": "code",
   "execution_count": 4,
   "metadata": {},
   "outputs": [],
   "source": [
    "#feature scaling for standardization using StandardScaler\n",
    "\n",
    "from sklearn.preprocessing import StandardScaler #Loading StandardScaler from preprocessing module\n",
    "\n",
    "sc = StandardScaler() #Initialized new StandardScaler object\n",
    "\n",
    "sc.fit(X_train) #estimated mean and standard deviation for each featire dimension\n",
    "\n",
    "X_train_std = sc.transform(X_train) #Standardized the training data using mean and standard deviation\n",
    "\n",
    "X_test_std = sc.transform(X_test) #standardized the test data using mean and standard deviation"
   ]
  },
  {
   "cell_type": "code",
   "execution_count": 5,
   "metadata": {},
   "outputs": [
    {
     "data": {
      "text/plain": [
       "Perceptron(alpha=0.0001, class_weight=None, early_stopping=False, eta0=0.01,\n",
       "           fit_intercept=True, max_iter=50, n_iter_no_change=5, n_jobs=None,\n",
       "           penalty=None, random_state=1, shuffle=True, tol=0.001,\n",
       "           validation_fraction=0.1, verbose=0, warm_start=False)"
      ]
     },
     "execution_count": 5,
     "metadata": {},
     "output_type": "execute_result"
    }
   ],
   "source": [
    "#training perceptron model\n",
    "from sklearn.linear_model import Perceptron  #Loading the Perceptron from linear model\n",
    "\n",
    "ppn = Perceptron(eta0 = 0.01, max_iter = 50, random_state=1)  #Initialized of the Perceptron object\n",
    "\n",
    "ppn.fit(X_train_std, y_train)  #Trained the model via the fit method"
   ]
  },
  {
   "cell_type": "code",
   "execution_count": 6,
   "metadata": {},
   "outputs": [
    {
     "name": "stdout",
     "output_type": "stream",
     "text": [
      "Misclassified samples: 2\n"
     ]
    }
   ],
   "source": [
    "#prediction of perceptron\n",
    "y_pred = ppn.predict(X_test_std)\n",
    "print(\"Misclassified samples: %d\" %(y_test != y_pred).sum())"
   ]
  },
  {
   "cell_type": "code",
   "execution_count": 7,
   "metadata": {},
   "outputs": [
    {
     "name": "stdout",
     "output_type": "stream",
     "text": [
      "Accuracy: 0.96\n",
      "Accuracy: 0.96\n"
     ]
    }
   ],
   "source": [
    "#classification accuracy\n",
    "from sklearn.metrics import accuracy_score\n",
    "print(\"Accuracy: %.2f\" %accuracy_score(y_test, y_pred))\n",
    "print(\"Accuracy: %.2f\" %ppn.score(X_test_std, y_test))"
   ]
  },
  {
   "cell_type": "code",
   "execution_count": 8,
   "metadata": {},
   "outputs": [],
   "source": [
    "from matplotlib.colors import ListedColormap\n",
    "import matplotlib.pyplot as plt\n",
    "def plot_decision_regions(X , y , classifier ,test_idx = None , resolution = 0.02):\n",
    "    #setup marker generator and colormap\n",
    "    markers = ('s' , 'x' , 'o' , '^' , 'v')\n",
    "    colors = ('red' , 'blue' , 'lightgreen' , 'gray' , 'cyan')\n",
    "    cmap = ListedColormap(colors[:len(np.unique(y))])\n",
    "    \n",
    "    #plot decision surfaces\n",
    "    x1_min , x1_max = X[: , 0].min() - 1 , X[: , 0].max() + 1\n",
    "    x2_min , x2_max = X[: , 1].min() - 1 , X[: , 1].max() + 1\n",
    "    xx1 , xx2 = np.meshgrid(np.arange(x1_min , x1_max , resolution) , \n",
    "                            np.arange(x2_min , x2_max , resolution))\n",
    "    z = classifier.predict(np.array([xx1.ravel() , xx2.ravel()]).T)\n",
    "    z = z.reshape(xx1.shape)\n",
    "    plt.contourf(xx1 , xx2 , z , alpha = 0.3 , cmap = cmap)\n",
    "    plt.xlim(xx1.min() , xx1.max())\n",
    "    plt.ylim(xx2.min() , xx2.max())\n",
    "    \n",
    "    for idx , cl in enumerate(np.unique(y)):\n",
    "        plt.scatter(x = X[y == cl , 0] , y = X[y == cl , 1],\n",
    "                    alpha = 0.8 , c = colors[idx] , \n",
    "                    marker = markers[idx] , label = cl , edgecolor = 'black')\n",
    "    \n",
    "    #highlight test sample\n",
    "    if test_idx:\n",
    "        #plot all samples\n",
    "        X_test , y_test = X[test_idx , :] , y[test_idx]\n",
    "    plt.scatter(X_test[:, 0], X_test[:, 1],                    \n",
    "                c='', edgecolor='black', alpha=1.0,                    \\\n",
    "                linewidth=1, marker='o',                    \n",
    "                s=100, label='test set')\n",
    "    "
   ]
  },
  {
   "cell_type": "code",
   "execution_count": 9,
   "metadata": {},
   "outputs": [
    {
     "data": {
      "image/png": "[encoded data removed]",
      "text/plain": [
       "<Figure size 432x288 with 1 Axes>"
      ]
     },
     "metadata": {
      "needs_background": "light"
     },
     "output_type": "display_data"
    }
   ],
   "source": [
    "#marking the plots\n",
    "X_combined_std = np.vstack((X_train_std, X_test_std))\n",
    "y_combined = np.hstack((y_train, y_test))\n",
    "plot_decision_regions(X = X_combined_std, y = y_combined, classifier= ppn, test_idx= range(105, 150))\n",
    "\n",
    "plt.xlabel('Petal length[standardized]')\n",
    "plt.ylabel('Petal width[standardized]')\n",
    "plt.legend(loc = 'upper left')\n",
    "plt.show()"
   ]
  },
  {
   "cell_type": "code",
   "execution_count": null,
   "metadata": {},
   "outputs": [],
   "source": []
  }
 ],
 "metadata": {
  "kernelspec": {
   "display_name": "Python 3",
   "language": "python",
   "name": "python3"
  },
  "language_info": {
   "codemirror_mode": {
    "name": "ipython",
    "version": 3
   },
   "file_extension": ".py",
   "mimetype": "text/x-python",
   "name": "python",
   "nbconvert_exporter": "python",
   "pygments_lexer": "ipython3",
   "version": "3.7.6"
  }
 },
 "nbformat": 4,
 "nbformat_minor": 2
}
